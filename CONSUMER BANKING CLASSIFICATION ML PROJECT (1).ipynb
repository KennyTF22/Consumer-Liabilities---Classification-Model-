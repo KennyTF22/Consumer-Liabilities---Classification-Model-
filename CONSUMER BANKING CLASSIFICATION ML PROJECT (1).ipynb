{
 "cells": [
  {
   "cell_type": "markdown",
   "id": "f46580e0",
   "metadata": {
    "slideshow": {
     "slide_type": "slide"
    }
   },
   "source": [
    "### Consumer Banking Campaign Classification Project\n",
    "\n",
    "######  Retail Analytics,2022"
   ]
  },
  {
   "cell_type": "markdown",
   "id": "eef350b9",
   "metadata": {
    "slideshow": {
     "slide_type": "slide"
    }
   },
   "source": [
    "#### Problem Statement\n",
    "- Over the course of the Financial year xxxx, the response rate to campaign and promotions have been less than 15%\n",
    "- In a bid to improve the response rate, save cost of campaigning to customers that would not give any form of conversion and also improve targeted marketing, the xxxxteam is building a classification Machine Learning Model to would predict whether a customer would responded to a funding or transaction campaign or not.\n",
    "- The model would oredict customer likely response to a campaign.\n",
    "- The AS-IS campaign response is:\n",
    "<table>\n",
    "   <thead>\n",
    "      <tr>\n",
    "         <th>Campaign Type</th>\n",
    "         <th>Total Customers</th>\n",
    "         <th>Response Rate</th>\n",
    "      </tr>\n",
    "   </thead>\n",
    "   <tbody>\n",
    "      <tr>\n",
    "         <td>Funding</td>\n",
    "         <td>3.18m</td>\n",
    "         <td>3%</td>\n",
    "      </tr>\n",
    "      <tr>\n",
    "         <td>Transaction</td>\n",
    "         <td>1.6m</td>\n",
    "         <td>3%</td>\n",
    "      </tr>\n",
    "   </tbody>\n",
    "</table>\n",
    "\n",
    "\n",
    "- The Objective of the model is to increase the campaign to 6%\n",
    "\n",
    "#### Dataset\n",
    "The dataset contains 1 target and 20 features, the features are split into different segments\n",
    "\n",
    "- Customer Demography\n",
    "- Customer Geography\n",
    "- Customer Transaction\n",
    "- Customer Segment\n",
    "- Customer Category\n",
    "- Customer Debt status\n",
    "\n",
    "#### Choice of Algorithm\n",
    "\n",
    "- Random Forest\n",
    "- Artificial Neural Network\n",
    "\n",
    "\n",
    "#### Different classification algorithms would be run simulteanously, the best algorithm would be selected using the:\n",
    "- classification metrics (Accuracy, F1 score, Precision/Recall)\n",
    "- Receiver Operation Characteristics (ROC curve)\n",
    "- Confusion Matrix\n",
    "\n",
    "#### Improving the Model\n",
    "A/B testing would be employed to the test data that would fed into the model, to improve model.\n",
    "\n",
    "#### Data Cleaning\n",
    "The Data cleaning was done using power query in excel"
   ]
  },
  {
   "cell_type": "markdown",
   "id": "d489d8a2",
   "metadata": {
    "slideshow": {
     "slide_type": "slide"
    }
   },
   "source": [
    "### Data Dictionary\n",
    "<table>\n",
    "   <thead>\n",
    "      <tr>\n",
    "         <th>Feature</th>\n",
    "         <th>Meaning</th>\n",
    "      </tr>\n",
    "   </thead>\n",
    "   <tbody>\n",
    "      <tr>\n",
    "         <td>USSD_COUNT</td>\n",
    "         <td>The count of the transactions done on the USSD platform</td>\n",
    "      </tr>\n",
    "      <tr>\n",
    "         <td>USSD_VOLUME</td>\n",
    "         <td>The volume of the transactions done on the USSD platform</td>\n",
    "      </tr>\n",
    "       <tr>\n",
    "         <td>MOBILE_COUNT</td>\n",
    "         <td>The count of the transactions done on the MOBILE APP platform</td>\n",
    "      </tr>\n",
    "       <tr>\n",
    "         <td>MOBILE_VOLUME</td>\n",
    "         <td>The volume of the transactions done on the MOBILE APP platform</td>\n",
    "      </tr>\n",
    "       <tr>\n",
    "         <td>AGE</td>\n",
    "         <td>The age of the customer</td>\n",
    "      </tr>\n",
    "      <tr>\n",
    "         <td>ACCOUNT AGE</td>\n",
    "         <td>Measures how long the customers had been banking with the bank</td>\n",
    "      </tr>\n",
    "       <tr>\n",
    "         <td>BALANCE</td>\n",
    "         <td>The balance in the customer's account</td>\n",
    "      </tr>\n",
    "       <tr>\n",
    "         <td>SEGMENT</td>\n",
    "         <td>The segment the customer belongs to e.g Mass Affluent e.tc</td>\n",
    "      </tr>\n",
    "       <tr>\n",
    "         <td>SEX</td>\n",
    "         <td>The customer's gender</td>\n",
    "      </tr>\n",
    "      <tr>\n",
    "         <td>REGION NAME</td>\n",
    "         <td>The region the customer belongs to in the bank's hierarchy</td>\n",
    "      </tr>\n",
    "       <tr>\n",
    "         <td>STATE</td>\n",
    "         <td>The state the customer's account is domicilied</td>\n",
    "      </tr>\n",
    "       <tr>\n",
    "         <td>MOBILE NETWORK</td>\n",
    "         <td>The customer's network provider</td>\n",
    "      </tr>\n",
    "       <tr>\n",
    "         <td>CREDIT_COUNT</td>\n",
    "         <td>The total number of credit transaction in the last 3 months</td>\n",
    "      </tr>\n",
    "      <tr>\n",
    "         <td>CREDIT_TURNOVER</td>\n",
    "         <td>The total volume of credit transaction in the last 3 months</td>\n",
    "      </tr>\n",
    "       <tr>\n",
    "         <td>DEBIT_COUNT</td>\n",
    "         <td>The total number of debiy transaction in the last 3 months</td>\n",
    "      </tr>\n",
    "       <tr>\n",
    "         <td>DEBIT_TURNOVER</td>\n",
    "         <td>The total volume of debit transaction in the last 3 months</td>\n",
    "      </tr>\n",
    "        <tr>\n",
    "         <td>DEBTOR</td>\n",
    "         <td>Shows if the customer has any outstanding debt in the last 3 months</td>\n",
    "      </tr>\n",
    "       <tr>\n",
    "         <td>FCY_STATUS</td>\n",
    "         <td>Shows if the customers has an FCY account</td>\n",
    "      </tr>\n",
    "       <tr>\n",
    "         <td>TARGET</td>\n",
    "         <td>The Response Variable</td>\n",
    "      </tr>\n",
    "   </tbody>\n",
    "</table>"
   ]
  },
  {
   "cell_type": "code",
   "execution_count": 1,
   "id": "0264e747",
   "metadata": {
    "slideshow": {
     "slide_type": "slide"
    }
   },
   "outputs": [],
   "source": [
    "#Importing all the necessary libraries\n",
    "import warnings\n",
    "import pandas as pd\n",
    "import numpy as np\n",
    "import seaborn as sns\n",
    "import matplotlib.pyplot as plt\n",
    "%matplotlib inline\n",
    "from sklearn.preprocessing import OneHotEncoder, OrdinalEncoder\n",
    "from sklearn.impute import SimpleImputer\n",
    "from sklearn.preprocessing import LabelEncoder\n",
    "from sklearn.model_selection import train_test_split,cross_val_score\n",
    "from pandas_profiling import ProfileReport\n",
    "from sklearn.pipeline import Pipeline, make_pipeline\n",
    "from sklearn.naive_bayes import GaussianNB\n",
    "from sklearn.linear_model import SGDClassifier\n",
    "from sklearn.preprocessing import StandardScaler\n",
    "from sklearn.neighbors import KNeighborsClassifier\n",
    "from sklearn.tree import DecisionTreeClassifier\n",
    "from sklearn.ensemble import RandomForestClassifier\n",
    "from sklearn.neural_network import MLPClassifier\n",
    "from sklearn.svm import SVC\n",
    "from sklearn.model_selection import GridSearchCV\n",
    "from sklearn.metrics import classification_report\n",
    "from sklearn.metrics import roc_curve,precision_score,accuracy_score,recall_score\n",
    "from sklearn.metrics import roc_auc_score\n",
    "from sklearn.metrics import auc, confusion_matrix,plot_confusion_matrix\n",
    "import scikitplot as skplt\n",
    "import optuna\n",
    "\n",
    "\n",
    "warnings.filterwarnings(\"ignore\")"
   ]
  },
  {
   "cell_type": "code",
   "execution_count": 2,
   "id": "66b10436",
   "metadata": {
    "slideshow": {
     "slide_type": "skip"
    }
   },
   "outputs": [],
   "source": [
    "#Import the data set\n",
    "\n",
    "data = pd.read_excel(r'C:\\Users\\fifok\\Desktop\\Data_classification.xlsx')"
   ]
  },
  {
   "cell_type": "code",
   "execution_count": 3,
   "id": "ef6d8f96",
   "metadata": {
    "slideshow": {
     "slide_type": "skip"
    }
   },
   "outputs": [],
   "source": [
    "data.dropna(inplace=True)"
   ]
  },
  {
   "cell_type": "code",
   "execution_count": 4,
   "id": "623b3660",
   "metadata": {
    "slideshow": {
     "slide_type": "skip"
    }
   },
   "outputs": [],
   "source": [
    "#dropping the columns fhat are not needed\n",
    "\n",
    "data.drop(columns =['CUST_AC_NO','PHONE_EXT'], inplace = True)"
   ]
  },
  {
   "cell_type": "code",
   "execution_count": 5,
   "id": "53f3d226",
   "metadata": {
    "slideshow": {
     "slide_type": "skip"
    }
   },
   "outputs": [],
   "source": [
    "df =data.loc[(data['DEBTOR'] == 'Yes') | (data['DEBTOR'] == 'No')]"
   ]
  },
  {
   "cell_type": "code",
   "execution_count": 6,
   "id": "9af32da9",
   "metadata": {
    "scrolled": true,
    "slideshow": {
     "slide_type": "skip"
    }
   },
   "outputs": [
    {
     "name": "stdout",
     "output_type": "stream",
     "text": [
      "<class 'pandas.core.frame.DataFrame'>\n",
      "Int64Index: 227315 entries, 0 to 228252\n",
      "Data columns (total 20 columns):\n",
      " #   Column           Non-Null Count   Dtype  \n",
      "---  ------           --------------   -----  \n",
      " 0   USSD_COUNT       227315 non-null  int64  \n",
      " 1   USSD_VOLUME      227315 non-null  int64  \n",
      " 2   MOBILE_COUNT     227315 non-null  int64  \n",
      " 3   MOBILE_VOLUME    227315 non-null  int64  \n",
      " 4   SEX              227315 non-null  object \n",
      " 5   BRANCH_CODE      227315 non-null  int64  \n",
      " 6   MOBILE_NETWORK   227315 non-null  object \n",
      " 7   AGE              227315 non-null  int64  \n",
      " 8   ACCOUNT_AGE      227315 non-null  int64  \n",
      " 9   SEGMENT          227315 non-null  object \n",
      " 10  REGION_NAME      227315 non-null  object \n",
      " 11  STATE            227315 non-null  object \n",
      " 12  BALANCE          227315 non-null  float64\n",
      " 13  CREDIT_TURNOVER  227315 non-null  float64\n",
      " 14  CREDIT_COUNT     227315 non-null  int64  \n",
      " 15  DEBIT_TURNOVER   227315 non-null  float64\n",
      " 16  DEBIT_COUNT      227315 non-null  int64  \n",
      " 17  DEBTOR           227315 non-null  object \n",
      " 18  FCY_STATUS       227315 non-null  object \n",
      " 19  TARGET           227315 non-null  object \n",
      "dtypes: float64(3), int64(9), object(8)\n",
      "memory usage: 36.4+ MB\n"
     ]
    }
   ],
   "source": [
    "df.info()"
   ]
  },
  {
   "cell_type": "code",
   "execution_count": 8,
   "id": "76aafe26",
   "metadata": {},
   "outputs": [],
   "source": [
    "#creating additional columns: Mobile ratio and USSD ratio\n",
    "\n",
    "df['MOBILE_RATIO'] = df['MOBILE_COUNT']/df['MOBILE_VOLUME']\n",
    "df['USSD_RATIO'] = df['USSD_COUNT']/df['USSD_VOLUME']"
   ]
  },
  {
   "cell_type": "code",
   "execution_count": 10,
   "id": "776bce3f",
   "metadata": {},
   "outputs": [],
   "source": [
    "df.fillna(0,inplace=True)"
   ]
  },
  {
   "cell_type": "code",
   "execution_count": 11,
   "id": "c86f3224",
   "metadata": {},
   "outputs": [
    {
     "data": {
      "text/html": [
       "<div>\n",
       "<style scoped>\n",
       "    .dataframe tbody tr th:only-of-type {\n",
       "        vertical-align: middle;\n",
       "    }\n",
       "\n",
       "    .dataframe tbody tr th {\n",
       "        vertical-align: top;\n",
       "    }\n",
       "\n",
       "    .dataframe thead th {\n",
       "        text-align: right;\n",
       "    }\n",
       "</style>\n",
       "<table border=\"1\" class=\"dataframe\">\n",
       "  <thead>\n",
       "    <tr style=\"text-align: right;\">\n",
       "      <th></th>\n",
       "      <th>USSD_COUNT</th>\n",
       "      <th>USSD_VOLUME</th>\n",
       "      <th>MOBILE_COUNT</th>\n",
       "      <th>MOBILE_VOLUME</th>\n",
       "      <th>SEX</th>\n",
       "      <th>BRANCH_CODE</th>\n",
       "      <th>MOBILE_NETWORK</th>\n",
       "      <th>AGE</th>\n",
       "      <th>ACCOUNT_AGE</th>\n",
       "      <th>SEGMENT</th>\n",
       "      <th>...</th>\n",
       "      <th>BALANCE</th>\n",
       "      <th>CREDIT_TURNOVER</th>\n",
       "      <th>CREDIT_COUNT</th>\n",
       "      <th>DEBIT_TURNOVER</th>\n",
       "      <th>DEBIT_COUNT</th>\n",
       "      <th>DEBTOR</th>\n",
       "      <th>FCY_STATUS</th>\n",
       "      <th>TARGET</th>\n",
       "      <th>MOBILE_RATIO</th>\n",
       "      <th>USSD_RATIO</th>\n",
       "    </tr>\n",
       "  </thead>\n",
       "  <tbody>\n",
       "    <tr>\n",
       "      <th>0</th>\n",
       "      <td>0</td>\n",
       "      <td>0</td>\n",
       "      <td>387</td>\n",
       "      <td>3757700</td>\n",
       "      <td>M</td>\n",
       "      <td>81</td>\n",
       "      <td>MTN Nigeria</td>\n",
       "      <td>37</td>\n",
       "      <td>3</td>\n",
       "      <td>MASS AFFLUENT</td>\n",
       "      <td>...</td>\n",
       "      <td>229230.46</td>\n",
       "      <td>1859617.31</td>\n",
       "      <td>44</td>\n",
       "      <td>1891316.01</td>\n",
       "      <td>71</td>\n",
       "      <td>No</td>\n",
       "      <td>No</td>\n",
       "      <td>YES/FUNDED</td>\n",
       "      <td>0.000103</td>\n",
       "      <td>0.000000</td>\n",
       "    </tr>\n",
       "    <tr>\n",
       "      <th>1</th>\n",
       "      <td>0</td>\n",
       "      <td>0</td>\n",
       "      <td>17</td>\n",
       "      <td>65631</td>\n",
       "      <td>M</td>\n",
       "      <td>418</td>\n",
       "      <td>Globacom</td>\n",
       "      <td>36</td>\n",
       "      <td>4</td>\n",
       "      <td>MASS MARKET</td>\n",
       "      <td>...</td>\n",
       "      <td>8049.08</td>\n",
       "      <td>79740.91</td>\n",
       "      <td>2</td>\n",
       "      <td>78285.62</td>\n",
       "      <td>4</td>\n",
       "      <td>No</td>\n",
       "      <td>No</td>\n",
       "      <td>NO/FUNDED</td>\n",
       "      <td>0.000259</td>\n",
       "      <td>0.000000</td>\n",
       "    </tr>\n",
       "    <tr>\n",
       "      <th>3</th>\n",
       "      <td>177</td>\n",
       "      <td>1926579</td>\n",
       "      <td>0</td>\n",
       "      <td>0</td>\n",
       "      <td>F</td>\n",
       "      <td>369</td>\n",
       "      <td>MTN Nigeria</td>\n",
       "      <td>50</td>\n",
       "      <td>9</td>\n",
       "      <td>MASS MARKET</td>\n",
       "      <td>...</td>\n",
       "      <td>637070.88</td>\n",
       "      <td>237230.56</td>\n",
       "      <td>3</td>\n",
       "      <td>123884.85</td>\n",
       "      <td>11</td>\n",
       "      <td>No</td>\n",
       "      <td>No</td>\n",
       "      <td>YES/FUNDED</td>\n",
       "      <td>0.000000</td>\n",
       "      <td>0.000092</td>\n",
       "    </tr>\n",
       "    <tr>\n",
       "      <th>4</th>\n",
       "      <td>0</td>\n",
       "      <td>0</td>\n",
       "      <td>0</td>\n",
       "      <td>0</td>\n",
       "      <td>F</td>\n",
       "      <td>36</td>\n",
       "      <td>MTN Nigeria</td>\n",
       "      <td>34</td>\n",
       "      <td>4</td>\n",
       "      <td>MASS MARKET</td>\n",
       "      <td>...</td>\n",
       "      <td>214049.51</td>\n",
       "      <td>27518.06</td>\n",
       "      <td>1</td>\n",
       "      <td>17334.77</td>\n",
       "      <td>2</td>\n",
       "      <td>No</td>\n",
       "      <td>No</td>\n",
       "      <td>YES/FUNDED</td>\n",
       "      <td>0.000000</td>\n",
       "      <td>0.000000</td>\n",
       "    </tr>\n",
       "    <tr>\n",
       "      <th>5</th>\n",
       "      <td>4</td>\n",
       "      <td>10059</td>\n",
       "      <td>44</td>\n",
       "      <td>1012455</td>\n",
       "      <td>F</td>\n",
       "      <td>211</td>\n",
       "      <td>9mobile</td>\n",
       "      <td>30</td>\n",
       "      <td>5</td>\n",
       "      <td>MASS AFFLUENT</td>\n",
       "      <td>...</td>\n",
       "      <td>18752.11</td>\n",
       "      <td>247518.13</td>\n",
       "      <td>34</td>\n",
       "      <td>231215.30</td>\n",
       "      <td>16</td>\n",
       "      <td>No</td>\n",
       "      <td>No</td>\n",
       "      <td>NO/TRANSACTION</td>\n",
       "      <td>0.000043</td>\n",
       "      <td>0.000398</td>\n",
       "    </tr>\n",
       "    <tr>\n",
       "      <th>...</th>\n",
       "      <td>...</td>\n",
       "      <td>...</td>\n",
       "      <td>...</td>\n",
       "      <td>...</td>\n",
       "      <td>...</td>\n",
       "      <td>...</td>\n",
       "      <td>...</td>\n",
       "      <td>...</td>\n",
       "      <td>...</td>\n",
       "      <td>...</td>\n",
       "      <td>...</td>\n",
       "      <td>...</td>\n",
       "      <td>...</td>\n",
       "      <td>...</td>\n",
       "      <td>...</td>\n",
       "      <td>...</td>\n",
       "      <td>...</td>\n",
       "      <td>...</td>\n",
       "      <td>...</td>\n",
       "      <td>...</td>\n",
       "      <td>...</td>\n",
       "    </tr>\n",
       "    <tr>\n",
       "      <th>228248</th>\n",
       "      <td>0</td>\n",
       "      <td>0</td>\n",
       "      <td>277</td>\n",
       "      <td>179409872</td>\n",
       "      <td>M</td>\n",
       "      <td>563</td>\n",
       "      <td>MTN Nigeria</td>\n",
       "      <td>46</td>\n",
       "      <td>0</td>\n",
       "      <td>HNI</td>\n",
       "      <td>...</td>\n",
       "      <td>1523768.89</td>\n",
       "      <td>59079360.00</td>\n",
       "      <td>34</td>\n",
       "      <td>59050333.18</td>\n",
       "      <td>97</td>\n",
       "      <td>No</td>\n",
       "      <td>No</td>\n",
       "      <td>YES/FUNDED</td>\n",
       "      <td>0.000002</td>\n",
       "      <td>0.000000</td>\n",
       "    </tr>\n",
       "    <tr>\n",
       "      <th>228249</th>\n",
       "      <td>0</td>\n",
       "      <td>0</td>\n",
       "      <td>1</td>\n",
       "      <td>100</td>\n",
       "      <td>F</td>\n",
       "      <td>168</td>\n",
       "      <td>Airtel Nigeria</td>\n",
       "      <td>26</td>\n",
       "      <td>0</td>\n",
       "      <td>MASS MARKET</td>\n",
       "      <td>...</td>\n",
       "      <td>48207.82</td>\n",
       "      <td>57000.00</td>\n",
       "      <td>2</td>\n",
       "      <td>987.50</td>\n",
       "      <td>3</td>\n",
       "      <td>No</td>\n",
       "      <td>No</td>\n",
       "      <td>YES/FUNDED</td>\n",
       "      <td>0.010000</td>\n",
       "      <td>0.000000</td>\n",
       "    </tr>\n",
       "    <tr>\n",
       "      <th>228250</th>\n",
       "      <td>1</td>\n",
       "      <td>11</td>\n",
       "      <td>81</td>\n",
       "      <td>3666011</td>\n",
       "      <td>F</td>\n",
       "      <td>373</td>\n",
       "      <td>MTN Nigeria</td>\n",
       "      <td>23</td>\n",
       "      <td>0</td>\n",
       "      <td>MASS MARKET</td>\n",
       "      <td>...</td>\n",
       "      <td>42845.73</td>\n",
       "      <td>1211696.67</td>\n",
       "      <td>34</td>\n",
       "      <td>1204417.22</td>\n",
       "      <td>35</td>\n",
       "      <td>No</td>\n",
       "      <td>No</td>\n",
       "      <td>NO/FUNDED</td>\n",
       "      <td>0.000022</td>\n",
       "      <td>0.090909</td>\n",
       "    </tr>\n",
       "    <tr>\n",
       "      <th>228251</th>\n",
       "      <td>14</td>\n",
       "      <td>100857</td>\n",
       "      <td>0</td>\n",
       "      <td>0</td>\n",
       "      <td>F</td>\n",
       "      <td>155</td>\n",
       "      <td>MTN Nigeria</td>\n",
       "      <td>13</td>\n",
       "      <td>0</td>\n",
       "      <td>MASS MARKET</td>\n",
       "      <td>...</td>\n",
       "      <td>41709.30</td>\n",
       "      <td>50000.00</td>\n",
       "      <td>1</td>\n",
       "      <td>16716.67</td>\n",
       "      <td>1</td>\n",
       "      <td>No</td>\n",
       "      <td>No</td>\n",
       "      <td>YES/FUNDED</td>\n",
       "      <td>0.000000</td>\n",
       "      <td>0.000139</td>\n",
       "    </tr>\n",
       "    <tr>\n",
       "      <th>228252</th>\n",
       "      <td>27</td>\n",
       "      <td>24811</td>\n",
       "      <td>75</td>\n",
       "      <td>1452004</td>\n",
       "      <td>F</td>\n",
       "      <td>528</td>\n",
       "      <td>Globacom</td>\n",
       "      <td>27</td>\n",
       "      <td>0</td>\n",
       "      <td>MASS MARKET</td>\n",
       "      <td>...</td>\n",
       "      <td>43268.92</td>\n",
       "      <td>583466.67</td>\n",
       "      <td>48</td>\n",
       "      <td>589970.28</td>\n",
       "      <td>44</td>\n",
       "      <td>No</td>\n",
       "      <td>No</td>\n",
       "      <td>NO/FUNDED</td>\n",
       "      <td>0.000052</td>\n",
       "      <td>0.001088</td>\n",
       "    </tr>\n",
       "  </tbody>\n",
       "</table>\n",
       "<p>227315 rows × 22 columns</p>\n",
       "</div>"
      ],
      "text/plain": [
       "        USSD_COUNT  USSD_VOLUME  MOBILE_COUNT  MOBILE_VOLUME SEX  BRANCH_CODE  \\\n",
       "0                0            0           387        3757700   M           81   \n",
       "1                0            0            17          65631   M          418   \n",
       "3              177      1926579             0              0   F          369   \n",
       "4                0            0             0              0   F           36   \n",
       "5                4        10059            44        1012455   F          211   \n",
       "...            ...          ...           ...            ...  ..          ...   \n",
       "228248           0            0           277      179409872   M          563   \n",
       "228249           0            0             1            100   F          168   \n",
       "228250           1           11            81        3666011   F          373   \n",
       "228251          14       100857             0              0   F          155   \n",
       "228252          27        24811            75        1452004   F          528   \n",
       "\n",
       "        MOBILE_NETWORK  AGE  ACCOUNT_AGE        SEGMENT  ...     BALANCE  \\\n",
       "0          MTN Nigeria   37            3  MASS AFFLUENT  ...   229230.46   \n",
       "1             Globacom   36            4    MASS MARKET  ...     8049.08   \n",
       "3          MTN Nigeria   50            9    MASS MARKET  ...   637070.88   \n",
       "4          MTN Nigeria   34            4    MASS MARKET  ...   214049.51   \n",
       "5              9mobile   30            5  MASS AFFLUENT  ...    18752.11   \n",
       "...                ...  ...          ...            ...  ...         ...   \n",
       "228248     MTN Nigeria   46            0            HNI  ...  1523768.89   \n",
       "228249  Airtel Nigeria   26            0    MASS MARKET  ...    48207.82   \n",
       "228250     MTN Nigeria   23            0    MASS MARKET  ...    42845.73   \n",
       "228251     MTN Nigeria   13            0    MASS MARKET  ...    41709.30   \n",
       "228252        Globacom   27            0    MASS MARKET  ...    43268.92   \n",
       "\n",
       "       CREDIT_TURNOVER  CREDIT_COUNT  DEBIT_TURNOVER  DEBIT_COUNT  DEBTOR  \\\n",
       "0           1859617.31            44      1891316.01           71      No   \n",
       "1             79740.91             2        78285.62            4      No   \n",
       "3            237230.56             3       123884.85           11      No   \n",
       "4             27518.06             1        17334.77            2      No   \n",
       "5            247518.13            34       231215.30           16      No   \n",
       "...                ...           ...             ...          ...     ...   \n",
       "228248     59079360.00            34     59050333.18           97      No   \n",
       "228249        57000.00             2          987.50            3      No   \n",
       "228250      1211696.67            34      1204417.22           35      No   \n",
       "228251        50000.00             1        16716.67            1      No   \n",
       "228252       583466.67            48       589970.28           44      No   \n",
       "\n",
       "        FCY_STATUS          TARGET MOBILE_RATIO USSD_RATIO  \n",
       "0               No      YES/FUNDED     0.000103   0.000000  \n",
       "1               No       NO/FUNDED     0.000259   0.000000  \n",
       "3               No      YES/FUNDED     0.000000   0.000092  \n",
       "4               No      YES/FUNDED     0.000000   0.000000  \n",
       "5               No  NO/TRANSACTION     0.000043   0.000398  \n",
       "...            ...             ...          ...        ...  \n",
       "228248          No      YES/FUNDED     0.000002   0.000000  \n",
       "228249          No      YES/FUNDED     0.010000   0.000000  \n",
       "228250          No       NO/FUNDED     0.000022   0.090909  \n",
       "228251          No      YES/FUNDED     0.000000   0.000139  \n",
       "228252          No       NO/FUNDED     0.000052   0.001088  \n",
       "\n",
       "[227315 rows x 22 columns]"
      ]
     },
     "execution_count": 11,
     "metadata": {},
     "output_type": "execute_result"
    }
   ],
   "source": [
    "df"
   ]
  },
  {
   "cell_type": "code",
   "execution_count": 12,
   "id": "4c16c0e7",
   "metadata": {
    "slideshow": {
     "slide_type": "skip"
    }
   },
   "outputs": [],
   "source": [
    "df.drop(columns=['FCY_STATUS','DEBTOR'], inplace = True)"
   ]
  },
  {
   "cell_type": "code",
   "execution_count": 13,
   "id": "212873e2",
   "metadata": {
    "slideshow": {
     "slide_type": "skip"
    }
   },
   "outputs": [
    {
     "name": "stdout",
     "output_type": "stream",
     "text": [
      "<class 'pandas.core.frame.DataFrame'>\n",
      "Int64Index: 227315 entries, 0 to 228252\n",
      "Data columns (total 20 columns):\n",
      " #   Column           Non-Null Count   Dtype  \n",
      "---  ------           --------------   -----  \n",
      " 0   USSD_COUNT       227315 non-null  int64  \n",
      " 1   USSD_VOLUME      227315 non-null  int64  \n",
      " 2   MOBILE_COUNT     227315 non-null  int64  \n",
      " 3   MOBILE_VOLUME    227315 non-null  int64  \n",
      " 4   SEX              227315 non-null  object \n",
      " 5   BRANCH_CODE      227315 non-null  int64  \n",
      " 6   MOBILE_NETWORK   227315 non-null  object \n",
      " 7   AGE              227315 non-null  int64  \n",
      " 8   ACCOUNT_AGE      227315 non-null  int64  \n",
      " 9   SEGMENT          227315 non-null  object \n",
      " 10  REGION_NAME      227315 non-null  object \n",
      " 11  STATE            227315 non-null  object \n",
      " 12  BALANCE          227315 non-null  float64\n",
      " 13  CREDIT_TURNOVER  227315 non-null  float64\n",
      " 14  CREDIT_COUNT     227315 non-null  int64  \n",
      " 15  DEBIT_TURNOVER   227315 non-null  float64\n",
      " 16  DEBIT_COUNT      227315 non-null  int64  \n",
      " 17  TARGET           227315 non-null  object \n",
      " 18  MOBILE_RATIO     227315 non-null  float64\n",
      " 19  USSD_RATIO       227315 non-null  float64\n",
      "dtypes: float64(5), int64(9), object(6)\n",
      "memory usage: 36.4+ MB\n"
     ]
    }
   ],
   "source": [
    "df.info()"
   ]
  },
  {
   "cell_type": "markdown",
   "id": "8ec29401",
   "metadata": {
    "slideshow": {
     "slide_type": "slide"
    }
   },
   "source": [
    "#### DATA EXPLORATION\n",
    "\n"
   ]
  },
  {
   "cell_type": "code",
   "execution_count": 14,
   "id": "7996f7fc",
   "metadata": {
    "slideshow": {
     "slide_type": "skip"
    }
   },
   "outputs": [],
   "source": [
    "#masking the data to split\n",
    "\n",
    "fundedyes = df.query('TARGET == \"YES/FUNDED\"')\n",
    "fundedno = df.query('TARGET == \"NO/FUNDED\"')\n",
    "transactionyes = df.query('TARGET == \"YES/TRANSACTION\"')\n",
    "transactionno = df.query('TARGET == \"NO/TRANSACTION\"')"
   ]
  },
  {
   "cell_type": "code",
   "execution_count": 15,
   "id": "4446d13b",
   "metadata": {
    "collapsed": true,
    "slideshow": {
     "slide_type": "skip"
    }
   },
   "outputs": [
    {
     "name": "stdout",
     "output_type": "stream",
     "text": [
      "count    227315.000000\n",
      "mean         33.807289\n",
      "std          62.489256\n",
      "min           0.000000\n",
      "25%           0.000000\n",
      "50%           2.000000\n",
      "75%          44.500000\n",
      "max        1202.000000\n",
      "Name: USSD_COUNT, dtype: float64\n",
      "count    2.273150e+05\n",
      "mean     1.236827e+05\n",
      "std      3.390617e+05\n",
      "min      0.000000e+00\n",
      "25%      0.000000e+00\n",
      "50%      7.110000e+02\n",
      "75%      9.732400e+04\n",
      "max      1.079749e+07\n",
      "Name: USSD_VOLUME, dtype: float64\n",
      "count    227315.000000\n",
      "mean         43.380833\n",
      "std         147.638705\n",
      "min           0.000000\n",
      "25%           0.000000\n",
      "50%           0.000000\n",
      "75%          20.000000\n",
      "max       28615.000000\n",
      "Name: MOBILE_COUNT, dtype: float64\n",
      "count    2.273150e+05\n",
      "mean     5.522904e+06\n",
      "std      7.199056e+07\n",
      "min      0.000000e+00\n",
      "25%      0.000000e+00\n",
      "50%      0.000000e+00\n",
      "75%      3.021210e+05\n",
      "max      1.151265e+10\n",
      "Name: MOBILE_VOLUME, dtype: float64\n",
      "count     227315\n",
      "unique         2\n",
      "top            M\n",
      "freq      131094\n",
      "Name: SEX, dtype: object\n",
      "count    227315.000000\n",
      "mean        329.767983\n",
      "std         178.577746\n",
      "min           1.000000\n",
      "25%         172.000000\n",
      "50%         371.000000\n",
      "75%         475.000000\n",
      "max         901.000000\n",
      "Name: BRANCH_CODE, dtype: float64\n",
      "count          227315\n",
      "unique              4\n",
      "top       MTN Nigeria\n",
      "freq           162945\n",
      "Name: MOBILE_NETWORK, dtype: object\n",
      "count    227315.000000\n",
      "mean         35.673801\n",
      "std          24.053747\n",
      "min           0.000000\n",
      "25%          26.000000\n",
      "50%          33.000000\n",
      "75%          42.000000\n",
      "max        2012.000000\n",
      "Name: AGE, dtype: float64\n",
      "count    227315.000000\n",
      "mean          5.979020\n",
      "std           4.484681\n",
      "min           0.000000\n",
      "25%           2.000000\n",
      "50%           5.000000\n",
      "75%           9.000000\n",
      "max          30.000000\n",
      "Name: ACCOUNT_AGE, dtype: float64\n",
      "count          227315\n",
      "unique              5\n",
      "top       MASS MARKET\n",
      "freq           167982\n",
      "Name: SEGMENT, dtype: object\n",
      "count                     227315\n",
      "unique                       110\n",
      "top       Sales Region Anambra 2\n",
      "freq                        9116\n",
      "Name: REGION_NAME, dtype: object\n",
      "count           227315\n",
      "unique              48\n",
      "top       LAGOS STATE \n",
      "freq             56636\n",
      "Name: STATE, dtype: object\n",
      "count    2.273150e+05\n",
      "mean     4.295754e+05\n",
      "std      2.866280e+06\n",
      "min     -3.699667e+04\n",
      "25%      1.547253e+04\n",
      "50%      5.001064e+04\n",
      "75%      1.911760e+05\n",
      "max      4.539434e+08\n",
      "Name: BALANCE, dtype: float64\n",
      "count    2.273150e+05\n",
      "mean     1.026496e+06\n",
      "std      9.118896e+06\n",
      "min      0.000000e+00\n",
      "25%      3.484758e+04\n",
      "50%      9.328571e+04\n",
      "75%      3.355927e+05\n",
      "max      1.218912e+09\n",
      "Name: CREDIT_TURNOVER, dtype: float64\n",
      "count    227315.000000\n",
      "mean          9.838224\n",
      "std          25.039619\n",
      "min           0.000000\n",
      "25%           2.000000\n",
      "50%           4.000000\n",
      "75%           9.000000\n",
      "max        2417.000000\n",
      "Name: CREDIT_COUNT, dtype: float64\n",
      "count    2.273150e+05\n",
      "mean     9.852509e+05\n",
      "std      9.068460e+06\n",
      "min      0.000000e+00\n",
      "25%      2.407034e+04\n",
      "50%      7.346066e+04\n",
      "75%      2.923082e+05\n",
      "max      1.218997e+09\n",
      "Name: DEBIT_TURNOVER, dtype: float64\n",
      "count    227315.000000\n",
      "mean         15.389825\n",
      "std          25.436912\n",
      "min           0.000000\n",
      "25%           3.000000\n",
      "50%           8.000000\n",
      "75%          18.000000\n",
      "max        4279.000000\n",
      "Name: DEBIT_COUNT, dtype: float64\n",
      "count         227315\n",
      "unique             4\n",
      "top       YES/FUNDED\n",
      "freq           83447\n",
      "Name: TARGET, dtype: object\n",
      "count    2.273150e+05\n",
      "mean              inf\n",
      "std               NaN\n",
      "min      0.000000e+00\n",
      "25%      0.000000e+00\n",
      "50%      0.000000e+00\n",
      "75%      9.709104e-06\n",
      "max               inf\n",
      "Name: MOBILE_RATIO, dtype: float64\n",
      "count    2.273150e+05\n",
      "mean              inf\n",
      "std               NaN\n",
      "min      0.000000e+00\n",
      "25%      0.000000e+00\n",
      "50%      1.115275e-04\n",
      "75%      5.375747e-04\n",
      "max               inf\n",
      "Name: USSD_RATIO, dtype: float64\n"
     ]
    }
   ],
   "source": [
    "for i in df.columns:\n",
    "    des = df[i].describe()\n",
    "    print(des)"
   ]
  },
  {
   "cell_type": "code",
   "execution_count": 16,
   "id": "b9d22ffa",
   "metadata": {
    "slideshow": {
     "slide_type": "subslide"
    }
   },
   "outputs": [
    {
     "data": {
      "image/png": "[encoded data removed]",
      "text/plain": [
       "<Figure size 1080x432 with 2 Axes>"
      ]
     },
     "metadata": {
      "needs_background": "light"
     },
     "output_type": "display_data"
    }
   ],
   "source": [
    "plt.figure(figsize = [15,6])\n",
    "\n",
    "plt.subplot(1,2,1)\n",
    "\n",
    "order_seg1 = fundedyes['SEGMENT'].value_counts().sort_index().index\n",
    "hue_order1 = fundedyes['TARGET'].value_counts().sort_values().index\n",
    "plt.xticks(rotation=90)\n",
    "ax = sns.countplot(data = fundedyes, x= 'SEGMENT', hue = 'TARGET', order = order_seg1, hue_order=hue_order1);\n",
    "ax.bar_label(ax.containers[0]);\n",
    "\n",
    "\n",
    "plt.subplot(1,2,2)\n",
    "\n",
    "order_seg2 = fundedno['SEGMENT'].value_counts().sort_index().index\n",
    "hue_order2 = fundedno['TARGET'].value_counts().sort_values().index\n",
    "plt.xticks(rotation=90)\n",
    "\n",
    "ax = sns.countplot(data = fundedno, x= 'SEGMENT', hue = 'TARGET', order = order_seg2, hue_order=hue_order2);\n",
    "ax.bar_label(ax.containers[0]);\n",
    "\n",
    "\n"
   ]
  },
  {
   "cell_type": "code",
   "execution_count": 17,
   "id": "600f138f",
   "metadata": {
    "scrolled": false,
    "slideshow": {
     "slide_type": "subslide"
    }
   },
   "outputs": [
    {
     "data": {
      "image/png": "[encoded data removed]",
      "text/plain": [
       "<Figure size 1080x432 with 2 Axes>"
      ]
     },
     "metadata": {
      "needs_background": "light"
     },
     "output_type": "display_data"
    }
   ],
   "source": [
    "plt.figure(figsize = [15,6])\n",
    "plt.subplot(1,2,1)\n",
    "\n",
    "order_seg3 = transactionyes['SEGMENT'].value_counts().sort_index().index\n",
    "hue_order3 = transactionyes['TARGET'].value_counts().sort_values().index\n",
    "plt.xticks(rotation=90)\n",
    "\n",
    "ax = sns.countplot(data = transactionyes, x= 'SEGMENT', hue = 'TARGET', order = order_seg3, hue_order=hue_order3);\n",
    "ax.bar_label(ax.containers[0]);\n",
    "\n",
    "\n",
    "plt.subplot(1,2,2)\n",
    "\n",
    "order_seg4 = transactionno['SEGMENT'].value_counts().sort_index().index\n",
    "hue_order4 = transactionno['TARGET'].value_counts().sort_values().index\n",
    "plt.xticks(rotation=90)\n",
    "\n",
    "ax = sns.countplot(data = transactionno, x= 'SEGMENT', hue = 'TARGET', order = order_seg4, hue_order=hue_order4);\n",
    "ax.bar_label(ax.containers[0]);"
   ]
  },
  {
   "cell_type": "markdown",
   "id": "c41920e6",
   "metadata": {
    "slideshow": {
     "slide_type": "subslide"
    }
   },
   "source": [
    "- This basically shows that the segment that has the highest number of observations."
   ]
  },
  {
   "cell_type": "code",
   "execution_count": 18,
   "id": "6da9567a",
   "metadata": {
    "slideshow": {
     "slide_type": "skip"
    }
   },
   "outputs": [],
   "source": [
    "#create a column for USSD Status\n",
    "\n",
    "def ussd(df):\n",
    "    if (df['USSD_COUNT'] <= 0):\n",
    "        return 'N'\n",
    "    else:\n",
    "        return 'Y'\n",
    "    "
   ]
  },
  {
   "cell_type": "code",
   "execution_count": 19,
   "id": "cd6a0211",
   "metadata": {
    "slideshow": {
     "slide_type": "skip"
    }
   },
   "outputs": [],
   "source": [
    "#create a column for Mobile Status\n",
    "\n",
    "def mobile(df):\n",
    "    if (df['MOBILE_COUNT'] <= 0):\n",
    "        return 'N'\n",
    "    else:\n",
    "        return 'Y'"
   ]
  },
  {
   "cell_type": "code",
   "execution_count": 20,
   "id": "94064723",
   "metadata": {
    "slideshow": {
     "slide_type": "skip"
    }
   },
   "outputs": [],
   "source": [
    "df['HAS_MOBILE'] = df.apply(lambda x:mobile(x), axis=1)"
   ]
  },
  {
   "cell_type": "code",
   "execution_count": 21,
   "id": "e2bb919a",
   "metadata": {
    "slideshow": {
     "slide_type": "skip"
    }
   },
   "outputs": [],
   "source": [
    "df['HAS_USSD'] = df.apply(lambda x:ussd(x), axis=1)"
   ]
  },
  {
   "cell_type": "code",
   "execution_count": 22,
   "id": "151e00e6",
   "metadata": {
    "slideshow": {
     "slide_type": "skip"
    }
   },
   "outputs": [],
   "source": [
    "def add_category(df):\n",
    "    if (df['TARGET'] in ['YES/FUNDED','NO/FUNDED']):\n",
    "        return 'FUNDED'\n",
    "    else:\n",
    "        return 'TRANSACTION'"
   ]
  },
  {
   "cell_type": "code",
   "execution_count": 23,
   "id": "9af14852",
   "metadata": {
    "slideshow": {
     "slide_type": "skip"
    }
   },
   "outputs": [],
   "source": [
    "df['CATEGORY'] = df.apply(lambda x:add_category(x), axis = 1)"
   ]
  },
  {
   "cell_type": "code",
   "execution_count": 24,
   "id": "cf79044a",
   "metadata": {
    "slideshow": {
     "slide_type": "skip"
    }
   },
   "outputs": [],
   "source": [
    "mask = pd.DataFrame(df.groupby(['CATEGORY','SEGMENT','TARGET'])['BRANCH_CODE'].count())\n",
    "mask.reset_index(inplace=True)"
   ]
  },
  {
   "cell_type": "code",
   "execution_count": 25,
   "id": "ebda996b",
   "metadata": {
    "slideshow": {
     "slide_type": "skip"
    }
   },
   "outputs": [
    {
     "data": {
      "text/html": [
       "<div>\n",
       "<style scoped>\n",
       "    .dataframe tbody tr th:only-of-type {\n",
       "        vertical-align: middle;\n",
       "    }\n",
       "\n",
       "    .dataframe tbody tr th {\n",
       "        vertical-align: top;\n",
       "    }\n",
       "\n",
       "    .dataframe thead th {\n",
       "        text-align: right;\n",
       "    }\n",
       "</style>\n",
       "<table border=\"1\" class=\"dataframe\">\n",
       "  <thead>\n",
       "    <tr style=\"text-align: right;\">\n",
       "      <th></th>\n",
       "      <th>SEGMENT</th>\n",
       "      <th>CATEGORY</th>\n",
       "      <th>BRANCH_CODE</th>\n",
       "    </tr>\n",
       "  </thead>\n",
       "  <tbody>\n",
       "    <tr>\n",
       "      <th>0</th>\n",
       "      <td>FINANCIAL INCLUSION</td>\n",
       "      <td>FUNDED</td>\n",
       "      <td>3441</td>\n",
       "    </tr>\n",
       "    <tr>\n",
       "      <th>1</th>\n",
       "      <td>FINANCIAL INCLUSION</td>\n",
       "      <td>TRANSACTION</td>\n",
       "      <td>403</td>\n",
       "    </tr>\n",
       "    <tr>\n",
       "      <th>2</th>\n",
       "      <td>HNI</td>\n",
       "      <td>FUNDED</td>\n",
       "      <td>6986</td>\n",
       "    </tr>\n",
       "    <tr>\n",
       "      <th>3</th>\n",
       "      <td>HNI</td>\n",
       "      <td>TRANSACTION</td>\n",
       "      <td>3174</td>\n",
       "    </tr>\n",
       "    <tr>\n",
       "      <th>4</th>\n",
       "      <td>MASS AFFLUENT</td>\n",
       "      <td>FUNDED</td>\n",
       "      <td>28162</td>\n",
       "    </tr>\n",
       "    <tr>\n",
       "      <th>5</th>\n",
       "      <td>MASS AFFLUENT</td>\n",
       "      <td>TRANSACTION</td>\n",
       "      <td>16244</td>\n",
       "    </tr>\n",
       "    <tr>\n",
       "      <th>6</th>\n",
       "      <td>MASS MARKET</td>\n",
       "      <td>FUNDED</td>\n",
       "      <td>112059</td>\n",
       "    </tr>\n",
       "    <tr>\n",
       "      <th>7</th>\n",
       "      <td>MASS MARKET</td>\n",
       "      <td>TRANSACTION</td>\n",
       "      <td>55923</td>\n",
       "    </tr>\n",
       "    <tr>\n",
       "      <th>8</th>\n",
       "      <td>UHNI</td>\n",
       "      <td>FUNDED</td>\n",
       "      <td>816</td>\n",
       "    </tr>\n",
       "    <tr>\n",
       "      <th>9</th>\n",
       "      <td>UHNI</td>\n",
       "      <td>TRANSACTION</td>\n",
       "      <td>107</td>\n",
       "    </tr>\n",
       "  </tbody>\n",
       "</table>\n",
       "</div>"
      ],
      "text/plain": [
       "               SEGMENT     CATEGORY  BRANCH_CODE\n",
       "0  FINANCIAL INCLUSION       FUNDED         3441\n",
       "1  FINANCIAL INCLUSION  TRANSACTION          403\n",
       "2                  HNI       FUNDED         6986\n",
       "3                  HNI  TRANSACTION         3174\n",
       "4        MASS AFFLUENT       FUNDED        28162\n",
       "5        MASS AFFLUENT  TRANSACTION        16244\n",
       "6          MASS MARKET       FUNDED       112059\n",
       "7          MASS MARKET  TRANSACTION        55923\n",
       "8                 UHNI       FUNDED          816\n",
       "9                 UHNI  TRANSACTION          107"
      ]
     },
     "execution_count": 25,
     "metadata": {},
     "output_type": "execute_result"
    }
   ],
   "source": [
    "#creating a dictionary that has the running total by segment and target\n",
    "\n",
    "mask2 = pd.DataFrame(mask.groupby(['SEGMENT','CATEGORY'])['BRANCH_CODE'].sum())\n",
    "\n",
    "mask2.reset_index(inplace= True)\n",
    "mask2"
   ]
  },
  {
   "cell_type": "code",
   "execution_count": 26,
   "id": "3a4ace3f",
   "metadata": {
    "slideshow": {
     "slide_type": "skip"
    }
   },
   "outputs": [],
   "source": [
    "#create a custom column that adds the running total\n",
    "\n",
    "def add_running_total(mask):\n",
    "    if (mask['CATEGORY'] == 'FUNDED'):\n",
    "        if (mask['SEGMENT'] == 'BUSINESS'):\n",
    "            return 8\n",
    "        elif (mask['SEGMENT'] == 'CORPORATE'):\n",
    "            return 1\n",
    "        elif (mask['SEGMENT'] == 'FINANCIAL INCLUSION'):\n",
    "            return 3441\n",
    "        elif (mask['SEGMENT'] == 'HNI'):\n",
    "            return 6986\n",
    "        elif (mask['SEGMENT'] == 'MASS AFFLUENT'):\n",
    "            return 28162\n",
    "        elif (mask['SEGMENT'] == 'MASS MARKET'):\n",
    "            return 112127\n",
    "        elif (mask['SEGMENT'] == 'UHNI'):\n",
    "            return 816\n",
    "        elif (mask['SEGMENT'] == 'MSME'):\n",
    "            return 706\n",
    "    if (mask['CATEGORY'] == 'TRANSACTION'):\n",
    "        if (mask['SEGMENT'] == 'FINANCIAL INCLUSION'):\n",
    "            return 403\n",
    "        elif (mask['SEGMENT'] == 'HNI'):\n",
    "            return 3174\n",
    "        elif (mask['SEGMENT'] == 'MASS AFFLUENT'):\n",
    "            return 16244\n",
    "        elif (mask['SEGMENT'] == 'MASS MARKET'):\n",
    "            return 55936\n",
    "        elif (mask['SEGMENT'] == 'UHNI'):\n",
    "            return 107\n",
    "        elif (mask['SEGMENT'] == 'MSME'):\n",
    "            return 21"
   ]
  },
  {
   "cell_type": "code",
   "execution_count": 27,
   "id": "9ee81f47",
   "metadata": {
    "slideshow": {
     "slide_type": "skip"
    }
   },
   "outputs": [],
   "source": [
    "mask['RUNNING_TOTAL'] = mask.apply(lambda x: add_running_total(x), axis =1)"
   ]
  },
  {
   "cell_type": "code",
   "execution_count": 28,
   "id": "bd498ad6",
   "metadata": {
    "slideshow": {
     "slide_type": "skip"
    }
   },
   "outputs": [],
   "source": [
    "mask['% CONTRIBUTION'] = ((mask['BRANCH_CODE']/mask['RUNNING_TOTAL'])*100).round().astype(str)+'%'"
   ]
  },
  {
   "cell_type": "code",
   "execution_count": 29,
   "id": "10cb2e2b",
   "metadata": {
    "scrolled": true,
    "slideshow": {
     "slide_type": "subslide"
    }
   },
   "outputs": [
    {
     "data": {
      "text/html": [
       "<div>\n",
       "<style scoped>\n",
       "    .dataframe tbody tr th:only-of-type {\n",
       "        vertical-align: middle;\n",
       "    }\n",
       "\n",
       "    .dataframe tbody tr th {\n",
       "        vertical-align: top;\n",
       "    }\n",
       "\n",
       "    .dataframe thead th {\n",
       "        text-align: right;\n",
       "    }\n",
       "</style>\n",
       "<table border=\"1\" class=\"dataframe\">\n",
       "  <thead>\n",
       "    <tr style=\"text-align: right;\">\n",
       "      <th></th>\n",
       "      <th>CATEGORY</th>\n",
       "      <th>SEGMENT</th>\n",
       "      <th>TARGET</th>\n",
       "      <th>RUNNING_TOTAL</th>\n",
       "      <th>% CONTRIBUTION</th>\n",
       "    </tr>\n",
       "  </thead>\n",
       "  <tbody>\n",
       "    <tr>\n",
       "      <th>0</th>\n",
       "      <td>FUNDED</td>\n",
       "      <td>FINANCIAL INCLUSION</td>\n",
       "      <td>NO/FUNDED</td>\n",
       "      <td>3441</td>\n",
       "      <td>77.0%</td>\n",
       "    </tr>\n",
       "    <tr>\n",
       "      <th>1</th>\n",
       "      <td>FUNDED</td>\n",
       "      <td>FINANCIAL INCLUSION</td>\n",
       "      <td>YES/FUNDED</td>\n",
       "      <td>3441</td>\n",
       "      <td>23.0%</td>\n",
       "    </tr>\n",
       "    <tr>\n",
       "      <th>2</th>\n",
       "      <td>FUNDED</td>\n",
       "      <td>HNI</td>\n",
       "      <td>NO/FUNDED</td>\n",
       "      <td>6986</td>\n",
       "      <td>15.0%</td>\n",
       "    </tr>\n",
       "    <tr>\n",
       "      <th>3</th>\n",
       "      <td>FUNDED</td>\n",
       "      <td>HNI</td>\n",
       "      <td>YES/FUNDED</td>\n",
       "      <td>6986</td>\n",
       "      <td>85.0%</td>\n",
       "    </tr>\n",
       "    <tr>\n",
       "      <th>4</th>\n",
       "      <td>FUNDED</td>\n",
       "      <td>MASS AFFLUENT</td>\n",
       "      <td>NO/FUNDED</td>\n",
       "      <td>28162</td>\n",
       "      <td>20.0%</td>\n",
       "    </tr>\n",
       "    <tr>\n",
       "      <th>5</th>\n",
       "      <td>FUNDED</td>\n",
       "      <td>MASS AFFLUENT</td>\n",
       "      <td>YES/FUNDED</td>\n",
       "      <td>28162</td>\n",
       "      <td>80.0%</td>\n",
       "    </tr>\n",
       "    <tr>\n",
       "      <th>6</th>\n",
       "      <td>FUNDED</td>\n",
       "      <td>MASS MARKET</td>\n",
       "      <td>NO/FUNDED</td>\n",
       "      <td>112127</td>\n",
       "      <td>52.0%</td>\n",
       "    </tr>\n",
       "    <tr>\n",
       "      <th>7</th>\n",
       "      <td>FUNDED</td>\n",
       "      <td>MASS MARKET</td>\n",
       "      <td>YES/FUNDED</td>\n",
       "      <td>112127</td>\n",
       "      <td>48.0%</td>\n",
       "    </tr>\n",
       "    <tr>\n",
       "      <th>8</th>\n",
       "      <td>FUNDED</td>\n",
       "      <td>UHNI</td>\n",
       "      <td>NO/FUNDED</td>\n",
       "      <td>816</td>\n",
       "      <td>17.0%</td>\n",
       "    </tr>\n",
       "    <tr>\n",
       "      <th>9</th>\n",
       "      <td>FUNDED</td>\n",
       "      <td>UHNI</td>\n",
       "      <td>YES/FUNDED</td>\n",
       "      <td>816</td>\n",
       "      <td>83.0%</td>\n",
       "    </tr>\n",
       "    <tr>\n",
       "      <th>10</th>\n",
       "      <td>TRANSACTION</td>\n",
       "      <td>FINANCIAL INCLUSION</td>\n",
       "      <td>NO/TRANSACTION</td>\n",
       "      <td>403</td>\n",
       "      <td>72.0%</td>\n",
       "    </tr>\n",
       "    <tr>\n",
       "      <th>11</th>\n",
       "      <td>TRANSACTION</td>\n",
       "      <td>FINANCIAL INCLUSION</td>\n",
       "      <td>YES/TRANSACTION</td>\n",
       "      <td>403</td>\n",
       "      <td>28.0%</td>\n",
       "    </tr>\n",
       "    <tr>\n",
       "      <th>12</th>\n",
       "      <td>TRANSACTION</td>\n",
       "      <td>HNI</td>\n",
       "      <td>NO/TRANSACTION</td>\n",
       "      <td>3174</td>\n",
       "      <td>9.0%</td>\n",
       "    </tr>\n",
       "    <tr>\n",
       "      <th>13</th>\n",
       "      <td>TRANSACTION</td>\n",
       "      <td>HNI</td>\n",
       "      <td>YES/TRANSACTION</td>\n",
       "      <td>3174</td>\n",
       "      <td>91.0%</td>\n",
       "    </tr>\n",
       "    <tr>\n",
       "      <th>14</th>\n",
       "      <td>TRANSACTION</td>\n",
       "      <td>MASS AFFLUENT</td>\n",
       "      <td>NO/TRANSACTION</td>\n",
       "      <td>16244</td>\n",
       "      <td>16.0%</td>\n",
       "    </tr>\n",
       "    <tr>\n",
       "      <th>15</th>\n",
       "      <td>TRANSACTION</td>\n",
       "      <td>MASS AFFLUENT</td>\n",
       "      <td>YES/TRANSACTION</td>\n",
       "      <td>16244</td>\n",
       "      <td>84.0%</td>\n",
       "    </tr>\n",
       "    <tr>\n",
       "      <th>16</th>\n",
       "      <td>TRANSACTION</td>\n",
       "      <td>MASS MARKET</td>\n",
       "      <td>NO/TRANSACTION</td>\n",
       "      <td>55936</td>\n",
       "      <td>49.0%</td>\n",
       "    </tr>\n",
       "    <tr>\n",
       "      <th>17</th>\n",
       "      <td>TRANSACTION</td>\n",
       "      <td>MASS MARKET</td>\n",
       "      <td>YES/TRANSACTION</td>\n",
       "      <td>55936</td>\n",
       "      <td>51.0%</td>\n",
       "    </tr>\n",
       "    <tr>\n",
       "      <th>18</th>\n",
       "      <td>TRANSACTION</td>\n",
       "      <td>UHNI</td>\n",
       "      <td>NO/TRANSACTION</td>\n",
       "      <td>107</td>\n",
       "      <td>5.0%</td>\n",
       "    </tr>\n",
       "    <tr>\n",
       "      <th>19</th>\n",
       "      <td>TRANSACTION</td>\n",
       "      <td>UHNI</td>\n",
       "      <td>YES/TRANSACTION</td>\n",
       "      <td>107</td>\n",
       "      <td>95.0%</td>\n",
       "    </tr>\n",
       "  </tbody>\n",
       "</table>\n",
       "</div>"
      ],
      "text/plain": [
       "       CATEGORY              SEGMENT           TARGET  RUNNING_TOTAL  \\\n",
       "0        FUNDED  FINANCIAL INCLUSION        NO/FUNDED           3441   \n",
       "1        FUNDED  FINANCIAL INCLUSION       YES/FUNDED           3441   \n",
       "2        FUNDED                  HNI        NO/FUNDED           6986   \n",
       "3        FUNDED                  HNI       YES/FUNDED           6986   \n",
       "4        FUNDED        MASS AFFLUENT        NO/FUNDED          28162   \n",
       "5        FUNDED        MASS AFFLUENT       YES/FUNDED          28162   \n",
       "6        FUNDED          MASS MARKET        NO/FUNDED         112127   \n",
       "7        FUNDED          MASS MARKET       YES/FUNDED         112127   \n",
       "8        FUNDED                 UHNI        NO/FUNDED            816   \n",
       "9        FUNDED                 UHNI       YES/FUNDED            816   \n",
       "10  TRANSACTION  FINANCIAL INCLUSION   NO/TRANSACTION            403   \n",
       "11  TRANSACTION  FINANCIAL INCLUSION  YES/TRANSACTION            403   \n",
       "12  TRANSACTION                  HNI   NO/TRANSACTION           3174   \n",
       "13  TRANSACTION                  HNI  YES/TRANSACTION           3174   \n",
       "14  TRANSACTION        MASS AFFLUENT   NO/TRANSACTION          16244   \n",
       "15  TRANSACTION        MASS AFFLUENT  YES/TRANSACTION          16244   \n",
       "16  TRANSACTION          MASS MARKET   NO/TRANSACTION          55936   \n",
       "17  TRANSACTION          MASS MARKET  YES/TRANSACTION          55936   \n",
       "18  TRANSACTION                 UHNI   NO/TRANSACTION            107   \n",
       "19  TRANSACTION                 UHNI  YES/TRANSACTION            107   \n",
       "\n",
       "   % CONTRIBUTION  \n",
       "0           77.0%  \n",
       "1           23.0%  \n",
       "2           15.0%  \n",
       "3           85.0%  \n",
       "4           20.0%  \n",
       "5           80.0%  \n",
       "6           52.0%  \n",
       "7           48.0%  \n",
       "8           17.0%  \n",
       "9           83.0%  \n",
       "10          72.0%  \n",
       "11          28.0%  \n",
       "12           9.0%  \n",
       "13          91.0%  \n",
       "14          16.0%  \n",
       "15          84.0%  \n",
       "16          49.0%  \n",
       "17          51.0%  \n",
       "18           5.0%  \n",
       "19          95.0%  "
      ]
     },
     "execution_count": 29,
     "metadata": {},
     "output_type": "execute_result"
    }
   ],
   "source": [
    "mask.replace({'BRANCH_CODE':'FREQUENCY'},inplace=True)\n",
    "mask.drop('BRANCH_CODE',axis=1)"
   ]
  },
  {
   "cell_type": "markdown",
   "id": "d3f4490f",
   "metadata": {
    "slideshow": {
     "slide_type": "slide"
    }
   },
   "source": [
    "- The table above shows the segments with their respsctive response rate, grouped by the Category\n",
    "- The follwing segments: 'HNI', 'MASS AFFLUENT', 'UHNI' have the highest response rate for the FUNDING CAMPAIGN(Fund & Win, Fund to Card)\n",
    "- The follwing segments: 'HNI', 'MASS AFFLUENT', 'UHNI' also has the highest response rate for the TRANSACTION CAMPAIGN\n",
    "- Albeit, the response of the MASS MARKET(which is the ~90% of the retail customers) is about 50% - note: This is from a subset of the total population(5.2m).\n",
    "- The customers to be campaigned to should be sterilized to ensure a better conversion\n",
    "- Stratification used be should as a technique for customer selection."
   ]
  },
  {
   "cell_type": "code",
   "execution_count": 30,
   "id": "ec02cefc",
   "metadata": {
    "slideshow": {
     "slide_type": "skip"
    }
   },
   "outputs": [],
   "source": [
    "state_mask = pd.DataFrame(df.groupby(['CATEGORY','STATE','TARGET'])['BRANCH_CODE'].count())\n",
    "state_mask.reset_index(inplace=True)"
   ]
  },
  {
   "cell_type": "code",
   "execution_count": 31,
   "id": "d0023b14",
   "metadata": {
    "slideshow": {
     "slide_type": "skip"
    }
   },
   "outputs": [
    {
     "data": {
      "text/html": [
       "<div>\n",
       "<style scoped>\n",
       "    .dataframe tbody tr th:only-of-type {\n",
       "        vertical-align: middle;\n",
       "    }\n",
       "\n",
       "    .dataframe tbody tr th {\n",
       "        vertical-align: top;\n",
       "    }\n",
       "\n",
       "    .dataframe thead th {\n",
       "        text-align: right;\n",
       "    }\n",
       "</style>\n",
       "<table border=\"1\" class=\"dataframe\">\n",
       "  <thead>\n",
       "    <tr style=\"text-align: right;\">\n",
       "      <th></th>\n",
       "      <th>CATEGORY</th>\n",
       "      <th>STATE</th>\n",
       "      <th>TARGET</th>\n",
       "      <th>BRANCH_CODE</th>\n",
       "    </tr>\n",
       "  </thead>\n",
       "  <tbody>\n",
       "    <tr>\n",
       "      <th>61</th>\n",
       "      <td>FUNDED</td>\n",
       "      <td>LAGOS STATE</td>\n",
       "      <td>YES/FUNDED</td>\n",
       "      <td>21018</td>\n",
       "    </tr>\n",
       "    <tr>\n",
       "      <th>60</th>\n",
       "      <td>FUNDED</td>\n",
       "      <td>LAGOS STATE</td>\n",
       "      <td>NO/FUNDED</td>\n",
       "      <td>17964</td>\n",
       "    </tr>\n",
       "    <tr>\n",
       "      <th>157</th>\n",
       "      <td>TRANSACTION</td>\n",
       "      <td>LAGOS STATE</td>\n",
       "      <td>YES/TRANSACTION</td>\n",
       "      <td>11380</td>\n",
       "    </tr>\n",
       "    <tr>\n",
       "      <th>9</th>\n",
       "      <td>FUNDED</td>\n",
       "      <td>ANAMBRA STATE</td>\n",
       "      <td>YES/FUNDED</td>\n",
       "      <td>6365</td>\n",
       "    </tr>\n",
       "    <tr>\n",
       "      <th>156</th>\n",
       "      <td>TRANSACTION</td>\n",
       "      <td>LAGOS STATE</td>\n",
       "      <td>NO/TRANSACTION</td>\n",
       "      <td>6274</td>\n",
       "    </tr>\n",
       "    <tr>\n",
       "      <th>37</th>\n",
       "      <td>FUNDED</td>\n",
       "      <td>FEDERAL CAPITAL TERRITORY (F.C.T</td>\n",
       "      <td>YES/FUNDED</td>\n",
       "      <td>5940</td>\n",
       "    </tr>\n",
       "    <tr>\n",
       "      <th>8</th>\n",
       "      <td>FUNDED</td>\n",
       "      <td>ANAMBRA STATE</td>\n",
       "      <td>NO/FUNDED</td>\n",
       "      <td>5333</td>\n",
       "    </tr>\n",
       "    <tr>\n",
       "      <th>83</th>\n",
       "      <td>FUNDED</td>\n",
       "      <td>RIVERS STATE</td>\n",
       "      <td>YES/FUNDED</td>\n",
       "      <td>4746</td>\n",
       "    </tr>\n",
       "    <tr>\n",
       "      <th>36</th>\n",
       "      <td>FUNDED</td>\n",
       "      <td>FEDERAL CAPITAL TERRITORY (F.C.T</td>\n",
       "      <td>NO/FUNDED</td>\n",
       "      <td>4711</td>\n",
       "    </tr>\n",
       "    <tr>\n",
       "      <th>82</th>\n",
       "      <td>FUNDED</td>\n",
       "      <td>RIVERS STATE</td>\n",
       "      <td>NO/FUNDED</td>\n",
       "      <td>4170</td>\n",
       "    </tr>\n",
       "    <tr>\n",
       "      <th>41</th>\n",
       "      <td>FUNDED</td>\n",
       "      <td>IMO STATE</td>\n",
       "      <td>YES/FUNDED</td>\n",
       "      <td>4086</td>\n",
       "    </tr>\n",
       "    <tr>\n",
       "      <th>35</th>\n",
       "      <td>FUNDED</td>\n",
       "      <td>ENUGU STATE</td>\n",
       "      <td>YES/FUNDED</td>\n",
       "      <td>3932</td>\n",
       "    </tr>\n",
       "    <tr>\n",
       "      <th>40</th>\n",
       "      <td>FUNDED</td>\n",
       "      <td>IMO STATE</td>\n",
       "      <td>NO/FUNDED</td>\n",
       "      <td>3268</td>\n",
       "    </tr>\n",
       "    <tr>\n",
       "      <th>34</th>\n",
       "      <td>FUNDED</td>\n",
       "      <td>ENUGU STATE</td>\n",
       "      <td>NO/FUNDED</td>\n",
       "      <td>2979</td>\n",
       "    </tr>\n",
       "    <tr>\n",
       "      <th>1</th>\n",
       "      <td>FUNDED</td>\n",
       "      <td>ABIA STATE</td>\n",
       "      <td>YES/FUNDED</td>\n",
       "      <td>2939</td>\n",
       "    </tr>\n",
       "    <tr>\n",
       "      <th>67</th>\n",
       "      <td>FUNDED</td>\n",
       "      <td>OGUN STATE</td>\n",
       "      <td>YES/FUNDED</td>\n",
       "      <td>2903</td>\n",
       "    </tr>\n",
       "    <tr>\n",
       "      <th>133</th>\n",
       "      <td>TRANSACTION</td>\n",
       "      <td>FEDERAL CAPITAL TERRITORY (F.C.T</td>\n",
       "      <td>YES/TRANSACTION</td>\n",
       "      <td>2835</td>\n",
       "    </tr>\n",
       "    <tr>\n",
       "      <th>105</th>\n",
       "      <td>TRANSACTION</td>\n",
       "      <td>ANAMBRA STATE</td>\n",
       "      <td>YES/TRANSACTION</td>\n",
       "      <td>2658</td>\n",
       "    </tr>\n",
       "    <tr>\n",
       "      <th>0</th>\n",
       "      <td>FUNDED</td>\n",
       "      <td>ABIA STATE</td>\n",
       "      <td>NO/FUNDED</td>\n",
       "      <td>2655</td>\n",
       "    </tr>\n",
       "    <tr>\n",
       "      <th>179</th>\n",
       "      <td>TRANSACTION</td>\n",
       "      <td>RIVERS STATE</td>\n",
       "      <td>YES/TRANSACTION</td>\n",
       "      <td>2549</td>\n",
       "    </tr>\n",
       "    <tr>\n",
       "      <th>23</th>\n",
       "      <td>FUNDED</td>\n",
       "      <td>DELTA STATE</td>\n",
       "      <td>YES/FUNDED</td>\n",
       "      <td>2489</td>\n",
       "    </tr>\n",
       "    <tr>\n",
       "      <th>66</th>\n",
       "      <td>FUNDED</td>\n",
       "      <td>OGUN STATE</td>\n",
       "      <td>NO/FUNDED</td>\n",
       "      <td>2351</td>\n",
       "    </tr>\n",
       "    <tr>\n",
       "      <th>29</th>\n",
       "      <td>FUNDED</td>\n",
       "      <td>EDO STATE</td>\n",
       "      <td>YES/FUNDED</td>\n",
       "      <td>2301</td>\n",
       "    </tr>\n",
       "    <tr>\n",
       "      <th>137</th>\n",
       "      <td>TRANSACTION</td>\n",
       "      <td>IMO STATE</td>\n",
       "      <td>YES/TRANSACTION</td>\n",
       "      <td>2233</td>\n",
       "    </tr>\n",
       "    <tr>\n",
       "      <th>79</th>\n",
       "      <td>FUNDED</td>\n",
       "      <td>OYO STATE</td>\n",
       "      <td>YES/FUNDED</td>\n",
       "      <td>2214</td>\n",
       "    </tr>\n",
       "  </tbody>\n",
       "</table>\n",
       "</div>"
      ],
      "text/plain": [
       "        CATEGORY                             STATE           TARGET  \\\n",
       "61        FUNDED                      LAGOS STATE        YES/FUNDED   \n",
       "60        FUNDED                      LAGOS STATE         NO/FUNDED   \n",
       "157  TRANSACTION                      LAGOS STATE   YES/TRANSACTION   \n",
       "9         FUNDED                    ANAMBRA STATE        YES/FUNDED   \n",
       "156  TRANSACTION                      LAGOS STATE    NO/TRANSACTION   \n",
       "37        FUNDED  FEDERAL CAPITAL TERRITORY (F.C.T       YES/FUNDED   \n",
       "8         FUNDED                    ANAMBRA STATE         NO/FUNDED   \n",
       "83        FUNDED                     RIVERS STATE        YES/FUNDED   \n",
       "36        FUNDED  FEDERAL CAPITAL TERRITORY (F.C.T        NO/FUNDED   \n",
       "82        FUNDED                     RIVERS STATE         NO/FUNDED   \n",
       "41        FUNDED                        IMO STATE        YES/FUNDED   \n",
       "35        FUNDED                      ENUGU STATE        YES/FUNDED   \n",
       "40        FUNDED                        IMO STATE         NO/FUNDED   \n",
       "34        FUNDED                      ENUGU STATE         NO/FUNDED   \n",
       "1         FUNDED                       ABIA STATE        YES/FUNDED   \n",
       "67        FUNDED                       OGUN STATE        YES/FUNDED   \n",
       "133  TRANSACTION  FEDERAL CAPITAL TERRITORY (F.C.T  YES/TRANSACTION   \n",
       "105  TRANSACTION                    ANAMBRA STATE   YES/TRANSACTION   \n",
       "0         FUNDED                       ABIA STATE         NO/FUNDED   \n",
       "179  TRANSACTION                     RIVERS STATE   YES/TRANSACTION   \n",
       "23        FUNDED                      DELTA STATE        YES/FUNDED   \n",
       "66        FUNDED                       OGUN STATE         NO/FUNDED   \n",
       "29        FUNDED                        EDO STATE        YES/FUNDED   \n",
       "137  TRANSACTION                        IMO STATE   YES/TRANSACTION   \n",
       "79        FUNDED                        OYO STATE        YES/FUNDED   \n",
       "\n",
       "     BRANCH_CODE  \n",
       "61         21018  \n",
       "60         17964  \n",
       "157        11380  \n",
       "9           6365  \n",
       "156         6274  \n",
       "37          5940  \n",
       "8           5333  \n",
       "83          4746  \n",
       "36          4711  \n",
       "82          4170  \n",
       "41          4086  \n",
       "35          3932  \n",
       "40          3268  \n",
       "34          2979  \n",
       "1           2939  \n",
       "67          2903  \n",
       "133         2835  \n",
       "105         2658  \n",
       "0           2655  \n",
       "179         2549  \n",
       "23          2489  \n",
       "66          2351  \n",
       "29          2301  \n",
       "137         2233  \n",
       "79          2214  "
      ]
     },
     "execution_count": 31,
     "metadata": {},
     "output_type": "execute_result"
    }
   ],
   "source": [
    "state_mask.sort_values(by='BRANCH_CODE', ascending=False).head(25)"
   ]
  },
  {
   "cell_type": "code",
   "execution_count": 32,
   "id": "25eba22b",
   "metadata": {
    "slideshow": {
     "slide_type": "skip"
    }
   },
   "outputs": [],
   "source": [
    "df.drop(columns =['CATEGORY'], axis=1, inplace=True)"
   ]
  },
  {
   "cell_type": "code",
   "execution_count": 33,
   "id": "ae3a8407",
   "metadata": {
    "slideshow": {
     "slide_type": "skip"
    }
   },
   "outputs": [],
   "source": [
    "#remove duplicates\n",
    "\n",
    "q1,q2 = df['BALANCE'].quantile([0.1,0.9])\n",
    "first_mask = df['BALANCE'].between(q1,q2)\n",
    "\n",
    "df = df[first_mask]"
   ]
  },
  {
   "cell_type": "code",
   "execution_count": 34,
   "id": "b1fab4b6",
   "metadata": {
    "slideshow": {
     "slide_type": "skip"
    }
   },
   "outputs": [],
   "source": [
    "temp = df.copy()"
   ]
  },
  {
   "cell_type": "code",
   "execution_count": 35,
   "id": "e4a734d1",
   "metadata": {
    "slideshow": {
     "slide_type": "skip"
    }
   },
   "outputs": [],
   "source": [
    "temp['TARGET'] = LabelEncoder().fit_transform(temp['TARGET'])"
   ]
  },
  {
   "cell_type": "code",
   "execution_count": 36,
   "id": "fadb7edd",
   "metadata": {
    "scrolled": true,
    "slideshow": {
     "slide_type": "skip"
    }
   },
   "outputs": [],
   "source": [
    "correlation = temp.corr(method = 'spearman')"
   ]
  },
  {
   "cell_type": "code",
   "execution_count": 37,
   "id": "f1eeee09",
   "metadata": {
    "scrolled": false,
    "slideshow": {
     "slide_type": "skip"
    }
   },
   "outputs": [
    {
     "data": {
      "image/png": "[encoded data removed]",
      "text/plain": [
       "<Figure size 1080x432 with 2 Axes>"
      ]
     },
     "metadata": {
      "needs_background": "light"
     },
     "output_type": "display_data"
    }
   ],
   "source": [
    "#get correlation against the target variable\n",
    "plt.figure(figsize=[15,6]);\n",
    "masking = np.triu(np.ones_like(correlation, dtype=bool))\n",
    "\n",
    "sns.heatmap(correlation, mask=masking);"
   ]
  },
  {
   "cell_type": "code",
   "execution_count": 38,
   "id": "9f9795df",
   "metadata": {
    "slideshow": {
     "slide_type": "skip"
    }
   },
   "outputs": [],
   "source": [
    "df.drop(columns='BALANCE',inplace=True)"
   ]
  },
  {
   "cell_type": "code",
   "execution_count": 40,
   "id": "a89c838e",
   "metadata": {
    "slideshow": {
     "slide_type": "skip"
    }
   },
   "outputs": [],
   "source": [
    "# #standardize the numeric features\n",
    "# numeric_features = df.select_dtypes('number')\n",
    "# for s in numeric_features.columns:\n",
    "#     scaler = StandardScaler().fit(numeric_features[[s]])\n",
    "#     df[s] = scaler.transform(numeric_features[[s]])"
   ]
  },
  {
   "cell_type": "code",
   "execution_count": 41,
   "id": "f6cf8512",
   "metadata": {
    "scrolled": true,
    "slideshow": {
     "slide_type": "skip"
    }
   },
   "outputs": [],
   "source": [
    "#create a lopp to run throught the categorical variables and label them\n",
    "cat = df.select_dtypes('object')\n",
    "for i in cat:\n",
    "    df[i] = LabelEncoder().fit_transform(df[i])"
   ]
  },
  {
   "cell_type": "markdown",
   "id": "75a477e0",
   "metadata": {
    "slideshow": {
     "slide_type": "skip"
    }
   },
   "source": [
    "#### Data Modelling"
   ]
  },
  {
   "cell_type": "code",
   "execution_count": 42,
   "id": "e44a107d",
   "metadata": {
    "slideshow": {
     "slide_type": "skip"
    }
   },
   "outputs": [],
   "source": [
    "y = df['TARGET']\n",
    "X = df.drop(columns ='TARGET')"
   ]
  },
  {
   "cell_type": "code",
   "execution_count": 43,
   "id": "562e3b14",
   "metadata": {
    "scrolled": true,
    "slideshow": {
     "slide_type": "skip"
    }
   },
   "outputs": [
    {
     "data": {
      "text/plain": [
       "0         2\n",
       "1         0\n",
       "2         2\n",
       "3         2\n",
       "4         1\n",
       "         ..\n",
       "181846    2\n",
       "181847    2\n",
       "181848    0\n",
       "181849    2\n",
       "181850    0\n",
       "Name: TARGET, Length: 181851, dtype: int32"
      ]
     },
     "execution_count": 43,
     "metadata": {},
     "output_type": "execute_result"
    }
   ],
   "source": [
    "y.reset_index().drop('index',axis=1).squeeze()"
   ]
  },
  {
   "cell_type": "markdown",
   "id": "d960258c",
   "metadata": {
    "slideshow": {
     "slide_type": "slide"
    }
   },
   "source": [
    "### Data Modelling"
   ]
  },
  {
   "cell_type": "code",
   "execution_count": 45,
   "id": "3cb68b22",
   "metadata": {
    "slideshow": {
     "slide_type": "skip"
    }
   },
   "outputs": [
    {
     "name": "stdout",
     "output_type": "stream",
     "text": [
      "The shape of the X_train is: (145480, 20)\n",
      "The shape of the X_test is: (36371, 20)\n",
      "The shape of the y_train is: (145480,)\n",
      "The shape of the y_test is: (36371,)\n"
     ]
    }
   ],
   "source": [
    "#using the train-test split to split the data\n",
    "\n",
    "X_train, X_test, y_train, y_test = train_test_split(X, y, test_size=0.20, random_state=42)\n",
    "print(\"The shape of the X_train is:\" ,X_train.shape)\n",
    "print(\"The shape of the X_test is:\" ,X_test.shape)\n",
    "print(\"The shape of the y_train is:\" ,y_train.shape)\n",
    "print(\"The shape of the y_test is:\", y_test.shape)"
   ]
  },
  {
   "cell_type": "code",
   "execution_count": 46,
   "id": "071b4fd6",
   "metadata": {},
   "outputs": [],
   "source": [
    "#creating the model dictionary\n",
    "model_dict = {\n",
    "    'Naive Bayes': GaussianNB(),\n",
    "    'Gradient Descent': SGDClassifier(),\n",
    "    'KNN': KNeighborsClassifier(n_neighbors=7),\n",
    "    'Decision Tree': DecisionTreeClassifier(random_state=0),\n",
    "    'Random Forest': RandomForestClassifier(),\n",
    "    'Artificial Neural Network': MLPClassifier()    \n",
    "}"
   ]
  },
  {
   "cell_type": "markdown",
   "id": "f8c9f00c",
   "metadata": {
    "slideshow": {
     "slide_type": "slide"
    }
   },
   "source": [
    "#### Hyperparameter Tuning"
   ]
  },
  {
   "cell_type": "code",
   "execution_count": 47,
   "id": "2372a10e",
   "metadata": {
    "slideshow": {
     "slide_type": "slide"
    }
   },
   "outputs": [],
   "source": [
    "#Optimize the hyperparameter of the models using Optuna\n",
    "\n",
    "def objective(trial):\n",
    "    \n",
    "    classifier = trial.suggest_categorical('classifier',['Random Forest','ANN'])\n",
    "    \n",
    "    if classifier == 'Random Forest':\n",
    "        n_estimators = trial.suggest_int('n_estimators',100,1000,10)\n",
    "        max_depth = trial.suggest_int('max_depth',10,100,2)\n",
    "        max_features = trial.suggest_categorical('max_features',['auto','sqrt'])\n",
    "        \n",
    "        \n",
    "        clf = RandomForestClassifier(n_estimators=n_estimators,max_depth=max_depth,max_features=max_features)\n",
    "        \n",
    "    else:\n",
    "        hidden_layer_size = trial.suggest_int('hidden_layer_size', 30,150,30)\n",
    "        activation = trial.suggest_categorical('activation',['tanh','relu'])\n",
    "        solver = trial.suggest_categorical('solver',['sgd','adam'])\n",
    "        alpha = trial.suggest_float('alpha',0.0001,0.05)\n",
    "        learning_rate = trial.suggest_categorical('learning_rate',['constant','adaptive'])\n",
    "        \n",
    "        clf = MLPClassifier(hidden_layer_sizes=hidden_layer_size,activation=activation,solver=solver,alpha=alpha,learning_rate=learning_rate)\n",
    "        \n",
    "    return cross_val_score(clf,X_train,y_train, n_jobs=-1,cv=3).mean()"
   ]
  },
  {
   "cell_type": "code",
   "execution_count": 42,
   "id": "3e7f6b2e",
   "metadata": {
    "scrolled": false,
    "slideshow": {
     "slide_type": "slide"
    }
   },
   "outputs": [
    {
     "name": "stderr",
     "output_type": "stream",
     "text": [
      "\u001b[32m[I 2022-11-29 12:48:17,757]\u001b[0m A new study created in memory with name: no-name-be8a038c-1d95-46d8-927f-4eed7e7d9b1a\u001b[0m\n",
      "\u001b[32m[I 2022-11-29 12:50:26,147]\u001b[0m Trial 0 finished with value: 0.6109362040389666 and parameters: {'classifier': 'Random Forest', 'n_estimators': 200, 'max_depth': 50, 'max_features': 'auto'}. Best is trial 0 with value: 0.6109362040389666.\u001b[0m\n",
      "\u001b[32m[I 2022-11-29 12:52:57,793]\u001b[0m Trial 1 finished with value: 0.6109705870100309 and parameters: {'classifier': 'Random Forest', 'n_estimators': 190, 'max_depth': 62, 'max_features': 'sqrt'}. Best is trial 1 with value: 0.6109705870100309.\u001b[0m\n",
      "\u001b[32m[I 2022-11-29 12:59:26,022]\u001b[0m Trial 2 finished with value: 0.5589840473154791 and parameters: {'classifier': 'ANN', 'hidden_layer_size': 120, 'activation': 'relu', 'solver': 'adam', 'alpha': 0.02870066547088561, 'learning_rate': 'adaptive'}. Best is trial 1 with value: 0.6109705870100309.\u001b[0m\n",
      "\u001b[32m[I 2022-11-29 13:00:39,277]\u001b[0m Trial 3 finished with value: 0.5206351701313313 and parameters: {'classifier': 'ANN', 'hidden_layer_size': 120, 'activation': 'relu', 'solver': 'sgd', 'alpha': 0.035711931325732124, 'learning_rate': 'constant'}. Best is trial 1 with value: 0.6109705870100309.\u001b[0m\n",
      "\u001b[32m[I 2022-11-29 13:02:40,163]\u001b[0m Trial 4 finished with value: 0.560413788226633 and parameters: {'classifier': 'ANN', 'hidden_layer_size': 120, 'activation': 'tanh', 'solver': 'adam', 'alpha': 0.043619693470065786, 'learning_rate': 'adaptive'}. Best is trial 1 with value: 0.6109705870100309.\u001b[0m\n",
      "\u001b[32m[I 2022-11-29 13:06:17,243]\u001b[0m Trial 5 finished with value: 0.5361012053539058 and parameters: {'classifier': 'ANN', 'hidden_layer_size': 150, 'activation': 'tanh', 'solver': 'sgd', 'alpha': 0.03812718300642419, 'learning_rate': 'constant'}. Best is trial 1 with value: 0.6109705870100309.\u001b[0m\n",
      "\u001b[32m[I 2022-11-29 13:08:17,040]\u001b[0m Trial 6 finished with value: 0.5369810228426822 and parameters: {'classifier': 'ANN', 'hidden_layer_size': 60, 'activation': 'tanh', 'solver': 'sgd', 'alpha': 0.034763586585583296, 'learning_rate': 'constant'}. Best is trial 1 with value: 0.6109705870100309.\u001b[0m\n",
      "\u001b[32m[I 2022-11-29 13:10:56,728]\u001b[0m Trial 7 finished with value: 0.5353382160035364 and parameters: {'classifier': 'ANN', 'hidden_layer_size': 120, 'activation': 'relu', 'solver': 'sgd', 'alpha': 0.04916164089658505, 'learning_rate': 'adaptive'}. Best is trial 1 with value: 0.6109705870100309.\u001b[0m\n",
      "\u001b[32m[I 2022-11-29 13:14:45,931]\u001b[0m Trial 8 finished with value: 0.5585441453749126 and parameters: {'classifier': 'ANN', 'hidden_layer_size': 150, 'activation': 'tanh', 'solver': 'adam', 'alpha': 0.03262776796535389, 'learning_rate': 'adaptive'}. Best is trial 1 with value: 0.6109705870100309.\u001b[0m\n",
      "\u001b[32m[I 2022-11-29 13:19:08,378]\u001b[0m Trial 9 finished with value: 0.5378127341938319 and parameters: {'classifier': 'ANN', 'hidden_layer_size': 150, 'activation': 'tanh', 'solver': 'sgd', 'alpha': 0.03007231833917835, 'learning_rate': 'constant'}. Best is trial 1 with value: 0.6109705870100309.\u001b[0m\n",
      "\u001b[32m[I 2022-11-29 13:30:19,763]\u001b[0m Trial 10 finished with value: 0.6125103108480064 and parameters: {'classifier': 'Random Forest', 'n_estimators': 910, 'max_depth': 96, 'max_features': 'sqrt'}. Best is trial 10 with value: 0.6125103108480064.\u001b[0m\n",
      "\u001b[33m[W 2022-11-29 13:41:14,999]\u001b[0m Trial 11 failed because of the following error: The value nan is not acceptable.\u001b[0m\n",
      "\u001b[32m[I 2022-11-29 13:52:33,922]\u001b[0m Trial 12 finished with value: 0.6125721738878117 and parameters: {'classifier': 'Random Forest', 'n_estimators': 940, 'max_depth': 98, 'max_features': 'sqrt'}. Best is trial 12 with value: 0.6125721738878117.\u001b[0m\n",
      "\u001b[32m[I 2022-11-29 14:04:07,292]\u001b[0m Trial 13 finished with value: 0.6126546678158763 and parameters: {'classifier': 'Random Forest', 'n_estimators': 1000, 'max_depth': 100, 'max_features': 'sqrt'}. Best is trial 13 with value: 0.6126546678158763.\u001b[0m\n",
      "\u001b[32m[I 2022-11-29 14:26:52,284]\u001b[0m Trial 14 finished with value: 0.6123384671493203 and parameters: {'classifier': 'Random Forest', 'n_estimators': 970, 'max_depth': 100, 'max_features': 'sqrt'}. Best is trial 13 with value: 0.6126546678158763.\u001b[0m\n",
      "\u001b[32m[I 2022-11-29 14:34:47,540]\u001b[0m Trial 15 finished with value: 0.6125515567489417 and parameters: {'classifier': 'Random Forest', 'n_estimators': 720, 'max_depth': 82, 'max_features': 'sqrt'}. Best is trial 13 with value: 0.6126546678158763.\u001b[0m\n",
      "\u001b[32m[I 2022-11-29 14:38:15,508]\u001b[0m Trial 16 finished with value: 0.5836816213189983 and parameters: {'classifier': 'Random Forest', 'n_estimators': 720, 'max_depth': 10, 'max_features': 'sqrt'}. Best is trial 13 with value: 0.6126546678158763.\u001b[0m\n",
      "\u001b[32m[I 2022-11-29 14:49:37,980]\u001b[0m Trial 17 finished with value: 0.6122353580668336 and parameters: {'classifier': 'Random Forest', 'n_estimators': 960, 'max_depth': 76, 'max_features': 'auto'}. Best is trial 13 with value: 0.6126546678158763.\u001b[0m\n",
      "\u001b[32m[I 2022-11-29 14:55:42,758]\u001b[0m Trial 18 finished with value: 0.6120497679551942 and parameters: {'classifier': 'Random Forest', 'n_estimators': 500, 'max_depth': 100, 'max_features': 'sqrt'}. Best is trial 13 with value: 0.6126546678158763.\u001b[0m\n",
      "\u001b[32m[I 2022-11-29 15:05:01,498]\u001b[0m Trial 19 finished with value: 0.6122834778121038 and parameters: {'classifier': 'Random Forest', 'n_estimators': 760, 'max_depth': 46, 'max_features': 'sqrt'}. Best is trial 13 with value: 0.6126546678158763.\u001b[0m\n"
     ]
    },
    {
     "name": "stdout",
     "output_type": "stream",
     "text": [
      "Model Accuracy: 0.6126546678158763\n",
      "Best Hyperparameter: {'classifier': 'Random Forest', 'n_estimators': 1000, 'max_depth': 100, 'max_features': 'sqrt'}\n"
     ]
    }
   ],
   "source": [
    "#call the objective to study and get the best hyperparameters for the algorithms\n",
    "\n",
    "study = optuna.create_study(direction='maximize')\n",
    "study.optimize(objective,n_trials=20)\n",
    "\n",
    "trial = study.best_trial\n",
    "\n",
    "print('Model Accuracy: {}'.format(trial.value))\n",
    "print('Best Hyperparameter: {}'.format(trial.params))\n"
   ]
  },
  {
   "cell_type": "code",
   "execution_count": 44,
   "id": "bb012599",
   "metadata": {
    "slideshow": {
     "slide_type": "slide"
    }
   },
   "outputs": [
    {
     "data": {
      "text/plain": [
       "{'classifier': 'Random Forest',\n",
       " 'n_estimators': 1000,\n",
       " 'max_depth': 100,\n",
       " 'max_features': 'sqrt'}"
      ]
     },
     "execution_count": 44,
     "metadata": {},
     "output_type": "execute_result"
    }
   ],
   "source": [
    "study.best_params"
   ]
  },
  {
   "cell_type": "code",
   "execution_count": 46,
   "id": "c9811ba0",
   "metadata": {
    "scrolled": false,
    "slideshow": {
     "slide_type": "subslide"
    }
   },
   "outputs": [
    {
     "name": "stdout",
     "output_type": "stream",
     "text": [
      "The Training classification Report below:\n",
      "               precision    recall  f1-score   support\n",
      "\n",
      "           0       1.00      1.00      1.00     41702\n",
      "           1       1.00      1.00      1.00     19102\n",
      "           2       1.00      1.00      1.00     53934\n",
      "           3       1.00      1.00      1.00     30742\n",
      "\n",
      "    accuracy                           1.00    145480\n",
      "   macro avg       1.00      1.00      1.00    145480\n",
      "weighted avg       1.00      1.00      1.00    145480\n",
      "\n",
      "The Test classification Report below:\n",
      "               precision    recall  f1-score   support\n",
      "\n",
      "           0       0.71      0.57      0.64     10556\n",
      "           1       0.49      0.40      0.44      4589\n",
      "           2       0.60      0.67      0.63     13399\n",
      "           3       0.63      0.72      0.67      7827\n",
      "\n",
      "    accuracy                           0.62     36371\n",
      "   macro avg       0.61      0.59      0.60     36371\n",
      "weighted avg       0.62      0.62      0.62     36371\n",
      "\n"
     ]
    },
    {
     "data": {
      "image/png": "[encoded data removed]",
      "text/plain": [
       "<Figure size 432x288 with 2 Axes>"
      ]
     },
     "metadata": {
      "needs_background": "light"
     },
     "output_type": "display_data"
    }
   ],
   "source": [
    "model = RandomForestClassifier()\n",
    "\n",
    "model.fit(X_train,y_train)\n",
    "train_class_report = classification_report(y_train, model.predict(X_train))\n",
    "test_class_report = classification_report(y_test,model.predict(X_test))    \n",
    "    \n",
    "\n",
    "    \n",
    "print(\"The Training classification Report below:\\n\", train_class_report)\n",
    "print(\"The Test classification Report below:\\n\", test_class_report)\n",
    "\n",
    "\n",
    "##ConfusionMatrixDisplay(model,X_test,y_test);\n",
    "\n",
    "    \n",
    "    #create the cofusion matrix\n",
    "    #plot the confusion matrix\n",
    "\n",
    "\n",
    "model_confusion_matrix = plot_confusion_matrix(model, X_test,y_test)\n",
    "model_confusion_matrix.ax_.set_title('Confusion Matrix')\n",
    "    #ax.xaxis.set_ticklabels(['No/Funded','No/Transaction','Yes/Funded','Yes/Transaction'])\n",
    "    #ax.yaxis.set_ticklabels(['No/Funded','No/Transaction','Yes/Funded','Yes/Transaction'])\n",
    "plt.xlabel('Predicted Label')\n",
    "plt.ylabel('True Label')\n",
    "plt.gcf().axes[0].tick_params()\n",
    "plt.gcf().axes[1].tick_params()\n",
    "plt.show()\n",
    "\n",
    "#print('==========================================================================================================')"
   ]
  },
  {
   "cell_type": "code",
   "execution_count": null,
   "id": "5cc138a3",
   "metadata": {},
   "outputs": [],
   "source": []
  }
 ],
 "metadata": {
  "kernelspec": {
   "display_name": "Python 3 (ipykernel)",
   "language": "python",
   "name": "python3"
  },
  "language_info": {
   "codemirror_mode": {
    "name": "ipython",
    "version": 3
   },
   "file_extension": ".py",
   "mimetype": "text/x-python",
   "name": "python",
   "nbconvert_exporter": "python",
   "pygments_lexer": "ipython3",
   "version": "3.9.12"
  }
 },
 "nbformat": 4,
 "nbformat_minor": 5
}
